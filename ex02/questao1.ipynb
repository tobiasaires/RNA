{
 "cells": [
  {
   "cell_type": "markdown",
   "metadata": {},
   "source": [
    "##"
   ]
  },
  {
   "cell_type": "code",
   "execution_count": 16,
   "metadata": {},
   "outputs": [],
   "source": [
    "import torch\n",
    "import matplotlib.pyplot as plt\n",
    "import pandas as pd\n",
    "import sklearn.model_selection as model_selection"
   ]
  },
  {
   "cell_type": "code",
   "execution_count": 77,
   "metadata": {},
   "outputs": [],
   "source": [
    "class MLP(torch.nn.Module):\n",
    "    \n",
    "    def __init__(self, inputs, outputs, n_layers, hidden):\n",
    "        super(MLP, self).__init__()\n",
    "        self.n_layers = n_layers\n",
    "        self.layers = torch.nn.ModuleList()\n",
    "        for i in range(n_layers-1):\n",
    "            if i==0:\n",
    "                self.layers.append(torch.nn.Linear(inputs, hidden))\n",
    "            else:\n",
    "                self.layers.append(torch.nn.Linear(hidden, hidden))\n",
    "        self.layers.append(torch.nn.Linear(hidden, outputs))\n",
    "                \n",
    "    def forward(self, x):\n",
    "        for i in range(self.n_layers-1):\n",
    "            x = self.layers[i](x)\n",
    "            x = torch.relu(x)\n",
    "        x = self.layers[-1](x)\n",
    "        x = torch.softmax(x, dim=1)\n",
    "        return x"
   ]
  },
  {
   "cell_type": "code",
   "execution_count": 78,
   "metadata": {},
   "outputs": [],
   "source": [
    "dataframe = pd.read_csv('dados-ex5.txt', delimiter=\",\",\n",
    "                        header=None, engine='python')\n",
    "\n",
    "X = [x for x in zip(dataframe[0], dataframe[1])]\n",
    "Y = dataframe[2]\n",
    "X_train_full, X_test, y_train_full, y_test = model_selection.train_test_split(X, Y, train_size=0.8,test_size=0.2)\n",
    "\n",
    "X_train, X_validation, y_train, y_validation = model_selection.train_test_split(X_train_full, y_train_full, train_size=0.8,test_size=0.2)\n",
    "\n",
    "\n",
    "X_train_full = torch.tensor(X_train_full)\n",
    "X_test = torch.tensor(X_test)\n",
    "y_train_full = torch.tensor(y_train_full.values)\n",
    "y_test = torch.tensor(y_test.values)\n",
    "\n",
    "X_train = torch.tensor(X_train)\n",
    "Y_train = torch.tensor(y_train.values)\n",
    "X_validation = torch.tensor(X_validation)\n",
    "Y_validation = torch.tensor(y_validation.values)"
   ]
  },
  {
   "cell_type": "code",
   "execution_count": 79,
   "metadata": {},
   "outputs": [
    {
     "data": {
      "image/png": "[encoded data removed]",
      "text/plain": [
       "<Figure size 432x288 with 1 Axes>"
      ]
     },
     "metadata": {
      "needs_background": "light"
     },
     "output_type": "display_data"
    }
   ],
   "source": [
    "#train\n",
    "\n",
    "model = MLP(2,2, 5, 8)\n",
    "model.train()\n",
    "criterion = torch.nn.BCELoss()\n",
    "optimizer = torch.optim.SGD(model.parameters(), lr=0.001)\n",
    "errors = []\n",
    "for j in range(100):\n",
    "    sum_errors = 0\n",
    "    for n in range(X_train.shape[0]):\n",
    "        optimizer.zero_grad()\n",
    "        \n",
    "        y_hat = model.forward(X_train[n].unsqueeze(0))\n",
    "        y_target = torch.zeros(1, 2) \n",
    "        y_target[0, Y_train[n].long()] = 1.0\n",
    "        error = criterion(y_hat, y_target)\n",
    "        sum_errors += error\n",
    "        error.backward()\n",
    "        optimizer.step()\n",
    "    errors.append(sum_errors)\n",
    "\n",
    "plt.plot(errors)\n",
    "\n",
    "#test\n",
    "model.eval()\n",
    "with torch.no_grad():\n",
    "    pred = model.forward(X_validation)\n",
    "val, idx = pred.max(dim=1)"
   ]
  },
  {
   "cell_type": "code",
   "execution_count": 80,
   "metadata": {},
   "outputs": [
    {
     "name": "stdout",
     "output_type": "stream",
     "text": [
      "0.9861111111111112\n"
     ]
    }
   ],
   "source": [
    "hit = 0\n",
    "for i in range(len(Y_validation)):\n",
    "    if idx[i] == Y_validation[i].item():\n",
    "        hit += 1\n",
    "print(hit/len(Y_validation))\n"
   ]
  },
  {
   "cell_type": "code",
   "execution_count": 81,
   "metadata": {},
   "outputs": [
    {
     "data": {
      "image/png": "[encoded data removed]",
      "text/plain": [
       "<Figure size 432x288 with 1 Axes>"
      ]
     },
     "metadata": {
      "needs_background": "light"
     },
     "output_type": "display_data"
    }
   ],
   "source": [
    "model = MLP(2,2, 10, 10)\n",
    "model.train()\n",
    "criterion = torch.nn.BCELoss()\n",
    "optimizer = torch.optim.SGD(model.parameters(), lr=0.001)\n",
    "errors = []\n",
    "for j in range(100):\n",
    "    sum_errors = 0\n",
    "    for n in range(X_train.shape[0]):\n",
    "        optimizer.zero_grad()\n",
    "        \n",
    "        y_hat = model.forward(X_train[n].unsqueeze(0))\n",
    "        y_target = torch.zeros(1, 2) \n",
    "        y_target[0, Y_train[n].long()] = 1.0\n",
    "        error = criterion(y_hat, y_target)\n",
    "        sum_errors += error\n",
    "        error.backward()\n",
    "        optimizer.step()\n",
    "    errors.append(sum_errors)\n",
    "\n",
    "plt.plot(errors)\n",
    "\n",
    "#test\n",
    "model.eval()\n",
    "with torch.no_grad():\n",
    "    pred = model.forward(X_validation)\n",
    "val, idx = pred.max(dim=1)"
   ]
  },
  {
   "cell_type": "code",
   "execution_count": 82,
   "metadata": {},
   "outputs": [
    {
     "name": "stdout",
     "output_type": "stream",
     "text": [
      "0.4930555555555556\n"
     ]
    }
   ],
   "source": [
    "hit = 0\n",
    "for i in range(len(Y_validation)):\n",
    "    if idx[i] == Y_validation[i].item():\n",
    "        hit += 1\n",
    "print(hit/len(Y_validation))"
   ]
  },
  {
   "cell_type": "code",
   "execution_count": 83,
   "metadata": {},
   "outputs": [
    {
     "data": {
      "image/png": "[encoded data removed]",
      "text/plain": [
       "<Figure size 432x288 with 1 Axes>"
      ]
     },
     "metadata": {
      "needs_background": "light"
     },
     "output_type": "display_data"
    }
   ],
   "source": [
    "model = MLP(2,2, 15, 15)\n",
    "model.train()\n",
    "criterion = torch.nn.BCELoss()\n",
    "optimizer = torch.optim.SGD(model.parameters(), lr=0.001)\n",
    "errors = []\n",
    "for j in range(100):\n",
    "    sum_errors = 0\n",
    "    for n in range(X_train.shape[0]):\n",
    "        optimizer.zero_grad()\n",
    "        \n",
    "        y_hat = model.forward(X_train[n].unsqueeze(0))\n",
    "        y_target = torch.zeros(1, 2) \n",
    "        y_target[0, Y_train[n].long()] = 1.0\n",
    "        error = criterion(y_hat, y_target)\n",
    "        sum_errors += error\n",
    "        error.backward()\n",
    "        optimizer.step()\n",
    "    errors.append(sum_errors)\n",
    "\n",
    "plt.plot(errors)\n",
    "\n",
    "#test\n",
    "model.eval()\n",
    "with torch.no_grad():\n",
    "    pred = model.forward(X_validation)\n",
    "val, idx = pred.max(dim=1)"
   ]
  },
  {
   "cell_type": "code",
   "execution_count": 84,
   "metadata": {},
   "outputs": [
    {
     "name": "stdout",
     "output_type": "stream",
     "text": [
      "0.4930555555555556\n"
     ]
    }
   ],
   "source": [
    "hit = 0\n",
    "for i in range(len(Y_validation)):\n",
    "    if idx[i] == Y_validation[i].item():\n",
    "        hit += 1\n",
    "print(hit/len(Y_validation))"
   ]
  },
  {
   "cell_type": "code",
   "execution_count": 85,
   "metadata": {},
   "outputs": [
    {
     "data": {
      "image/png": "[encoded data removed]",
      "text/plain": [
       "<Figure size 432x288 with 1 Axes>"
      ]
     },
     "metadata": {
      "needs_background": "light"
     },
     "output_type": "display_data"
    }
   ],
   "source": [
    "model = MLP(2,2, 15, 8)\n",
    "model.train()\n",
    "criterion = torch.nn.BCELoss()\n",
    "optimizer = torch.optim.SGD(model.parameters(), lr=0.001)\n",
    "errors = []\n",
    "for j in range(100):\n",
    "    sum_errors = 0\n",
    "    for n in range(X_train.shape[0]):\n",
    "        optimizer.zero_grad()\n",
    "        \n",
    "        y_hat = model.forward(X_train[n].unsqueeze(0))\n",
    "        y_target = torch.zeros(1, 2) \n",
    "        y_target[0, Y_train[n].long()] = 1.0\n",
    "        error = criterion(y_hat, y_target)\n",
    "        sum_errors += error\n",
    "        error.backward()\n",
    "        optimizer.step()\n",
    "    errors.append(sum_errors)\n",
    "\n",
    "plt.plot(errors)\n",
    "\n",
    "#test\n",
    "model.eval()\n",
    "with torch.no_grad():\n",
    "    pred = model.forward(X_validation)\n",
    "val, idx = pred.max(dim=1)"
   ]
  },
  {
   "cell_type": "code",
   "execution_count": 86,
   "metadata": {},
   "outputs": [
    {
     "name": "stdout",
     "output_type": "stream",
     "text": [
      "0.4930555555555556\n"
     ]
    }
   ],
   "source": [
    "hit = 0\n",
    "for i in range(len(Y_validation)):\n",
    "    if idx[i] == Y_validation[i].item():\n",
    "        hit += 1\n",
    "print(hit/len(Y_validation))"
   ]
  },
  {
   "cell_type": "code",
   "execution_count": 87,
   "metadata": {},
   "outputs": [
    {
     "data": {
      "image/png": "[encoded data removed]",
      "text/plain": [
       "<Figure size 432x288 with 1 Axes>"
      ]
     },
     "metadata": {
      "needs_background": "light"
     },
     "output_type": "display_data"
    }
   ],
   "source": [
    "model = MLP(2,2, 5, 15)\n",
    "model.train()\n",
    "criterion = torch.nn.BCELoss()\n",
    "optimizer = torch.optim.SGD(model.parameters(), lr=0.001)\n",
    "errors = []\n",
    "for j in range(100):\n",
    "    sum_errors = 0\n",
    "    for n in range(X_train.shape[0]):\n",
    "        optimizer.zero_grad()\n",
    "        \n",
    "        y_hat = model.forward(X_train[n].unsqueeze(0))\n",
    "        y_target = torch.zeros(1, 2) \n",
    "        y_target[0, Y_train[n].long()] = 1.0\n",
    "        error = criterion(y_hat, y_target)\n",
    "        sum_errors += error\n",
    "        error.backward()\n",
    "        optimizer.step()\n",
    "    errors.append(sum_errors)\n",
    "\n",
    "plt.plot(errors)\n",
    "\n",
    "#test\n",
    "model.eval()\n",
    "with torch.no_grad():\n",
    "    pred = model.forward(X_validation)\n",
    "val, idx = pred.max(dim=1)"
   ]
  },
  {
   "cell_type": "code",
   "execution_count": 88,
   "metadata": {},
   "outputs": [
    {
     "name": "stdout",
     "output_type": "stream",
     "text": [
      "0.9861111111111112\n"
     ]
    }
   ],
   "source": [
    "hit = 0\n",
    "for i in range(len(Y_validation)):\n",
    "    if idx[i] == Y_validation[i].item():\n",
    "        hit += 1\n",
    "print(hit/len(Y_validation))"
   ]
  },
  {
   "cell_type": "code",
   "execution_count": 89,
   "metadata": {},
   "outputs": [
    {
     "data": {
      "image/png": "[encoded data removed]",
      "text/plain": [
       "<Figure size 432x288 with 1 Axes>"
      ]
     },
     "metadata": {
      "needs_background": "light"
     },
     "output_type": "display_data"
    }
   ],
   "source": [
    "model = MLP(2,2, 3, 15)\n",
    "model.train()\n",
    "criterion = torch.nn.BCELoss()\n",
    "optimizer = torch.optim.SGD(model.parameters(), lr=0.001)\n",
    "errors = []\n",
    "for j in range(100):\n",
    "    sum_errors = 0\n",
    "    for n in range(X_train.shape[0]):\n",
    "        optimizer.zero_grad()\n",
    "        \n",
    "        y_hat = model.forward(X_train[n].unsqueeze(0))\n",
    "        y_target = torch.zeros(1, 2) \n",
    "        y_target[0, Y_train[n].long()] = 1.0\n",
    "        error = criterion(y_hat, y_target)\n",
    "        sum_errors += error\n",
    "        error.backward()\n",
    "        optimizer.step()\n",
    "    errors.append(sum_errors)\n",
    "\n",
    "plt.plot(errors)\n",
    "\n",
    "#test\n",
    "model.eval()\n",
    "with torch.no_grad():\n",
    "    pred = model.forward(X_validation)\n",
    "val, idx = pred.max(dim=1)"
   ]
  },
  {
   "cell_type": "code",
   "execution_count": 90,
   "metadata": {},
   "outputs": [
    {
     "name": "stdout",
     "output_type": "stream",
     "text": [
      "0.9791666666666666\n"
     ]
    }
   ],
   "source": [
    "hit = 0\n",
    "for i in range(len(Y_validation)):\n",
    "    if idx[i] == Y_validation[i].item():\n",
    "        hit += 1\n",
    "print(hit/len(Y_validation))"
   ]
  },
  {
   "cell_type": "code",
   "execution_count": 91,
   "metadata": {},
   "outputs": [
    {
     "data": {
      "image/png": "[encoded data removed]",
      "text/plain": [
       "<Figure size 432x288 with 1 Axes>"
      ]
     },
     "metadata": {
      "needs_background": "light"
     },
     "output_type": "display_data"
    }
   ],
   "source": [
    "model = MLP(2,2, 5, 8)\n",
    "model.train()\n",
    "criterion = torch.nn.BCELoss()\n",
    "optimizer = torch.optim.SGD(model.parameters(), lr=0.001)\n",
    "errors = []\n",
    "for j in range(100):\n",
    "    sum_errors = 0\n",
    "    for n in range(X_train_full.shape[0]):\n",
    "        optimizer.zero_grad()\n",
    "        \n",
    "        y_hat = model.forward(X_train_full[n].unsqueeze(0))\n",
    "        y_target = torch.zeros(1, 2) \n",
    "        y_target[0, y_train_full[n].long()] = 1.0\n",
    "        error = criterion(y_hat, y_target)\n",
    "        sum_errors += error\n",
    "        error.backward()\n",
    "        optimizer.step()\n",
    "    errors.append(sum_errors)\n",
    "\n",
    "plt.plot(errors)\n",
    "\n",
    "#test\n",
    "model.eval()\n",
    "with torch.no_grad():\n",
    "    pred = model.forward(X_test)\n",
    "val, idx = pred.max(dim=1)"
   ]
  },
  {
   "cell_type": "code",
   "execution_count": 92,
   "metadata": {},
   "outputs": [
    {
     "name": "stdout",
     "output_type": "stream",
     "text": [
      "0.9888888888888889\n"
     ]
    }
   ],
   "source": [
    "hit = 0\n",
    "for i in range(len(y_test)):\n",
    "    if idx[i] == y_test[i].item():\n",
    "        hit += 1\n",
    "print(hit/len(y_test))"
   ]
  },
  {
   "cell_type": "code",
   "execution_count": null,
   "metadata": {},
   "outputs": [],
   "source": []
  }
 ],
 "metadata": {
  "kernelspec": {
   "display_name": "Python 3",
   "language": "python",
   "name": "python3"
  },
  "language_info": {
   "codemirror_mode": {
    "name": "ipython",
    "version": 3
   },
   "file_extension": ".py",
   "mimetype": "text/x-python",
   "name": "python",
   "nbconvert_exporter": "python",
   "pygments_lexer": "ipython3",
   "version": "3.9.0"
  }
 },
 "nbformat": 4,
 "nbformat_minor": 4
}
